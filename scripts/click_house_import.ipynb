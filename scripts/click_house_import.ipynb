{
 "cells": [
  {
   "cell_type": "markdown",
   "metadata": {},
   "source": []
  },
  {
   "cell_type": "code",
   "execution_count": 1,
   "metadata": {},
   "outputs": [],
   "source": [
    "import polars as pl\n",
    "from tqdm import tqdm"
   ]
  },
  {
   "cell_type": "code",
   "execution_count": 2,
   "metadata": {},
   "outputs": [
    {
     "ename": "FileNotFoundError",
     "evalue": "No such file or directory (os error 2): ../data/offers.csv",
     "output_type": "error",
     "traceback": [
      "\u001b[0;31m---------------------------------------------------------------------------\u001b[0m",
      "\u001b[0;31mFileNotFoundError\u001b[0m                         Traceback (most recent call last)",
      "Cell \u001b[0;32mIn[2], line 5\u001b[0m\n\u001b[1;32m      2\u001b[0m hotels_path \u001b[39m=\u001b[39m \u001b[39m\"\u001b[39m\u001b[39m../data/hotels.csv\u001b[39m\u001b[39m\"\u001b[39m\n\u001b[1;32m      3\u001b[0m output_path \u001b[39m=\u001b[39m \u001b[39m\"\u001b[39m\u001b[39m../data/offers.parquet\u001b[39m\u001b[39m\"\u001b[39m\n\u001b[0;32m----> 5\u001b[0m offers \u001b[39m=\u001b[39m pl\u001b[39m.\u001b[39;49mread_csv(offers_path)\n\u001b[1;32m      6\u001b[0m hotels \u001b[39m=\u001b[39m pl\u001b[39m.\u001b[39mread_csv(hotels_path)\n\u001b[1;32m      8\u001b[0m df \u001b[39m=\u001b[39m offers\u001b[39m.\u001b[39mjoin(hotels, on\u001b[39m=\u001b[39m\u001b[39m\"\u001b[39m\u001b[39mhotelid\u001b[39m\u001b[39m\"\u001b[39m, how\u001b[39m=\u001b[39m\u001b[39m\"\u001b[39m\u001b[39mleft\u001b[39m\u001b[39m\"\u001b[39m)\n",
      "File \u001b[0;32m~/Library/Python/3.9/lib/python/site-packages/polars/_utils/deprecation.py:128\u001b[0m, in \u001b[0;36mdeprecate_renamed_parameter.<locals>.decorate.<locals>.wrapper\u001b[0;34m(*args, **kwargs)\u001b[0m\n\u001b[1;32m    123\u001b[0m \u001b[39m@wraps\u001b[39m(function)\n\u001b[1;32m    124\u001b[0m \u001b[39mdef\u001b[39;00m\u001b[39m \u001b[39m\u001b[39mwrapper\u001b[39m(\u001b[39m*\u001b[39margs: P\u001b[39m.\u001b[39margs, \u001b[39m*\u001b[39m\u001b[39m*\u001b[39mkwargs: P\u001b[39m.\u001b[39mkwargs) \u001b[39m-\u001b[39m\u001b[39m>\u001b[39m T:\n\u001b[1;32m    125\u001b[0m     _rename_keyword_argument(\n\u001b[1;32m    126\u001b[0m         old_name, new_name, kwargs, function\u001b[39m.\u001b[39m\u001b[39m__qualname__\u001b[39m, version\n\u001b[1;32m    127\u001b[0m     )\n\u001b[0;32m--> 128\u001b[0m     \u001b[39mreturn\u001b[39;00m function(\u001b[39m*\u001b[39;49margs, \u001b[39m*\u001b[39;49m\u001b[39m*\u001b[39;49mkwargs)\n",
      "File \u001b[0;32m~/Library/Python/3.9/lib/python/site-packages/polars/_utils/deprecation.py:128\u001b[0m, in \u001b[0;36mdeprecate_renamed_parameter.<locals>.decorate.<locals>.wrapper\u001b[0;34m(*args, **kwargs)\u001b[0m\n\u001b[1;32m    123\u001b[0m \u001b[39m@wraps\u001b[39m(function)\n\u001b[1;32m    124\u001b[0m \u001b[39mdef\u001b[39;00m\u001b[39m \u001b[39m\u001b[39mwrapper\u001b[39m(\u001b[39m*\u001b[39margs: P\u001b[39m.\u001b[39margs, \u001b[39m*\u001b[39m\u001b[39m*\u001b[39mkwargs: P\u001b[39m.\u001b[39mkwargs) \u001b[39m-\u001b[39m\u001b[39m>\u001b[39m T:\n\u001b[1;32m    125\u001b[0m     _rename_keyword_argument(\n\u001b[1;32m    126\u001b[0m         old_name, new_name, kwargs, function\u001b[39m.\u001b[39m\u001b[39m__qualname__\u001b[39m, version\n\u001b[1;32m    127\u001b[0m     )\n\u001b[0;32m--> 128\u001b[0m     \u001b[39mreturn\u001b[39;00m function(\u001b[39m*\u001b[39;49margs, \u001b[39m*\u001b[39;49m\u001b[39m*\u001b[39;49mkwargs)\n",
      "File \u001b[0;32m~/Library/Python/3.9/lib/python/site-packages/polars/_utils/deprecation.py:128\u001b[0m, in \u001b[0;36mdeprecate_renamed_parameter.<locals>.decorate.<locals>.wrapper\u001b[0;34m(*args, **kwargs)\u001b[0m\n\u001b[1;32m    123\u001b[0m \u001b[39m@wraps\u001b[39m(function)\n\u001b[1;32m    124\u001b[0m \u001b[39mdef\u001b[39;00m\u001b[39m \u001b[39m\u001b[39mwrapper\u001b[39m(\u001b[39m*\u001b[39margs: P\u001b[39m.\u001b[39margs, \u001b[39m*\u001b[39m\u001b[39m*\u001b[39mkwargs: P\u001b[39m.\u001b[39mkwargs) \u001b[39m-\u001b[39m\u001b[39m>\u001b[39m T:\n\u001b[1;32m    125\u001b[0m     _rename_keyword_argument(\n\u001b[1;32m    126\u001b[0m         old_name, new_name, kwargs, function\u001b[39m.\u001b[39m\u001b[39m__qualname__\u001b[39m, version\n\u001b[1;32m    127\u001b[0m     )\n\u001b[0;32m--> 128\u001b[0m     \u001b[39mreturn\u001b[39;00m function(\u001b[39m*\u001b[39;49margs, \u001b[39m*\u001b[39;49m\u001b[39m*\u001b[39;49mkwargs)\n",
      "File \u001b[0;32m~/Library/Python/3.9/lib/python/site-packages/polars/io/csv/functions.py:549\u001b[0m, in \u001b[0;36mread_csv\u001b[0;34m(source, has_header, columns, new_columns, separator, comment_prefix, quote_char, skip_rows, skip_lines, schema, schema_overrides, null_values, missing_utf8_is_empty_string, ignore_errors, try_parse_dates, n_threads, infer_schema, infer_schema_length, batch_size, n_rows, encoding, low_memory, rechunk, use_pyarrow, storage_options, skip_rows_after_header, row_index_name, row_index_offset, sample_size, eol_char, raise_if_empty, truncate_ragged_lines, decimal_comma, glob)\u001b[0m\n\u001b[1;32m    541\u001b[0m \u001b[39melse\u001b[39;00m:\n\u001b[1;32m    542\u001b[0m     \u001b[39mwith\u001b[39;00m prepare_file_arg(\n\u001b[1;32m    543\u001b[0m         source,\n\u001b[1;32m    544\u001b[0m         encoding\u001b[39m=\u001b[39mencoding,\n\u001b[0;32m   (...)\u001b[0m\n\u001b[1;32m    547\u001b[0m         storage_options\u001b[39m=\u001b[39mstorage_options,\n\u001b[1;32m    548\u001b[0m     ) \u001b[39mas\u001b[39;00m data:\n\u001b[0;32m--> 549\u001b[0m         df \u001b[39m=\u001b[39m _read_csv_impl(\n\u001b[1;32m    550\u001b[0m             data,\n\u001b[1;32m    551\u001b[0m             has_header\u001b[39m=\u001b[39;49mhas_header,\n\u001b[1;32m    552\u001b[0m             columns\u001b[39m=\u001b[39;49mcolumns \u001b[39mif\u001b[39;49;00m columns \u001b[39melse\u001b[39;49;00m projection,\n\u001b[1;32m    553\u001b[0m             separator\u001b[39m=\u001b[39;49mseparator,\n\u001b[1;32m    554\u001b[0m             comment_prefix\u001b[39m=\u001b[39;49mcomment_prefix,\n\u001b[1;32m    555\u001b[0m             quote_char\u001b[39m=\u001b[39;49mquote_char,\n\u001b[1;32m    556\u001b[0m             skip_rows\u001b[39m=\u001b[39;49mskip_rows,\n\u001b[1;32m    557\u001b[0m             skip_lines\u001b[39m=\u001b[39;49mskip_lines,\n\u001b[1;32m    558\u001b[0m             schema_overrides\u001b[39m=\u001b[39;49mschema_overrides,\n\u001b[1;32m    559\u001b[0m             schema\u001b[39m=\u001b[39;49mschema,\n\u001b[1;32m    560\u001b[0m             null_values\u001b[39m=\u001b[39;49mnull_values,\n\u001b[1;32m    561\u001b[0m             missing_utf8_is_empty_string\u001b[39m=\u001b[39;49mmissing_utf8_is_empty_string,\n\u001b[1;32m    562\u001b[0m             ignore_errors\u001b[39m=\u001b[39;49mignore_errors,\n\u001b[1;32m    563\u001b[0m             try_parse_dates\u001b[39m=\u001b[39;49mtry_parse_dates,\n\u001b[1;32m    564\u001b[0m             n_threads\u001b[39m=\u001b[39;49mn_threads,\n\u001b[1;32m    565\u001b[0m             infer_schema_length\u001b[39m=\u001b[39;49minfer_schema_length,\n\u001b[1;32m    566\u001b[0m             batch_size\u001b[39m=\u001b[39;49mbatch_size,\n\u001b[1;32m    567\u001b[0m             n_rows\u001b[39m=\u001b[39;49mn_rows,\n\u001b[1;32m    568\u001b[0m             encoding\u001b[39m=\u001b[39;49mencoding \u001b[39mif\u001b[39;49;00m encoding \u001b[39m==\u001b[39;49m \u001b[39m\"\u001b[39;49m\u001b[39mutf8-lossy\u001b[39;49m\u001b[39m\"\u001b[39;49m \u001b[39melse\u001b[39;49;00m \u001b[39m\"\u001b[39;49m\u001b[39mutf8\u001b[39;49m\u001b[39m\"\u001b[39;49m,\n\u001b[1;32m    569\u001b[0m             low_memory\u001b[39m=\u001b[39;49mlow_memory,\n\u001b[1;32m    570\u001b[0m             rechunk\u001b[39m=\u001b[39;49mrechunk,\n\u001b[1;32m    571\u001b[0m             skip_rows_after_header\u001b[39m=\u001b[39;49mskip_rows_after_header,\n\u001b[1;32m    572\u001b[0m             row_index_name\u001b[39m=\u001b[39;49mrow_index_name,\n\u001b[1;32m    573\u001b[0m             row_index_offset\u001b[39m=\u001b[39;49mrow_index_offset,\n\u001b[1;32m    574\u001b[0m             eol_char\u001b[39m=\u001b[39;49meol_char,\n\u001b[1;32m    575\u001b[0m             raise_if_empty\u001b[39m=\u001b[39;49mraise_if_empty,\n\u001b[1;32m    576\u001b[0m             truncate_ragged_lines\u001b[39m=\u001b[39;49mtruncate_ragged_lines,\n\u001b[1;32m    577\u001b[0m             decimal_comma\u001b[39m=\u001b[39;49mdecimal_comma,\n\u001b[1;32m    578\u001b[0m             glob\u001b[39m=\u001b[39;49mglob,\n\u001b[1;32m    579\u001b[0m         )\n\u001b[1;32m    581\u001b[0m \u001b[39mif\u001b[39;00m new_columns:\n\u001b[1;32m    582\u001b[0m     \u001b[39mreturn\u001b[39;00m _update_columns(df, new_columns)\n",
      "File \u001b[0;32m~/Library/Python/3.9/lib/python/site-packages/polars/io/csv/functions.py:697\u001b[0m, in \u001b[0;36m_read_csv_impl\u001b[0;34m(source, has_header, columns, separator, comment_prefix, quote_char, skip_rows, skip_lines, schema, schema_overrides, null_values, missing_utf8_is_empty_string, ignore_errors, try_parse_dates, n_threads, infer_schema_length, batch_size, n_rows, encoding, low_memory, rechunk, skip_rows_after_header, row_index_name, row_index_offset, sample_size, eol_char, raise_if_empty, truncate_ragged_lines, decimal_comma, glob)\u001b[0m\n\u001b[1;32m    693\u001b[0m         \u001b[39mraise\u001b[39;00m \u001b[39mValueError\u001b[39;00m(msg)\n\u001b[1;32m    695\u001b[0m projection, columns \u001b[39m=\u001b[39m parse_columns_arg(columns)\n\u001b[0;32m--> 697\u001b[0m pydf \u001b[39m=\u001b[39m PyDataFrame\u001b[39m.\u001b[39;49mread_csv(\n\u001b[1;32m    698\u001b[0m     source,\n\u001b[1;32m    699\u001b[0m     infer_schema_length,\n\u001b[1;32m    700\u001b[0m     batch_size,\n\u001b[1;32m    701\u001b[0m     has_header,\n\u001b[1;32m    702\u001b[0m     ignore_errors,\n\u001b[1;32m    703\u001b[0m     n_rows,\n\u001b[1;32m    704\u001b[0m     skip_rows,\n\u001b[1;32m    705\u001b[0m     skip_lines,\n\u001b[1;32m    706\u001b[0m     projection,\n\u001b[1;32m    707\u001b[0m     separator,\n\u001b[1;32m    708\u001b[0m     rechunk,\n\u001b[1;32m    709\u001b[0m     columns,\n\u001b[1;32m    710\u001b[0m     encoding,\n\u001b[1;32m    711\u001b[0m     n_threads,\n\u001b[1;32m    712\u001b[0m     path,\n\u001b[1;32m    713\u001b[0m     dtype_list,\n\u001b[1;32m    714\u001b[0m     dtype_slice,\n\u001b[1;32m    715\u001b[0m     low_memory,\n\u001b[1;32m    716\u001b[0m     comment_prefix,\n\u001b[1;32m    717\u001b[0m     quote_char,\n\u001b[1;32m    718\u001b[0m     processed_null_values,\n\u001b[1;32m    719\u001b[0m     missing_utf8_is_empty_string,\n\u001b[1;32m    720\u001b[0m     try_parse_dates,\n\u001b[1;32m    721\u001b[0m     skip_rows_after_header,\n\u001b[1;32m    722\u001b[0m     parse_row_index_args(row_index_name, row_index_offset),\n\u001b[1;32m    723\u001b[0m     eol_char\u001b[39m=\u001b[39;49meol_char,\n\u001b[1;32m    724\u001b[0m     raise_if_empty\u001b[39m=\u001b[39;49mraise_if_empty,\n\u001b[1;32m    725\u001b[0m     truncate_ragged_lines\u001b[39m=\u001b[39;49mtruncate_ragged_lines,\n\u001b[1;32m    726\u001b[0m     decimal_comma\u001b[39m=\u001b[39;49mdecimal_comma,\n\u001b[1;32m    727\u001b[0m     schema\u001b[39m=\u001b[39;49mschema,\n\u001b[1;32m    728\u001b[0m )\n\u001b[1;32m    729\u001b[0m \u001b[39mreturn\u001b[39;00m wrap_df(pydf)\n",
      "\u001b[0;31mFileNotFoundError\u001b[0m: No such file or directory (os error 2): ../data/offers.csv"
     ]
    }
   ],
   "source": [
    "\n",
    "offers_path = \"../data/offer.csv\"\n",
    "hotels_path = \"../data/hotels.csv\"\n",
    "output_path = \"../data/offers.parquet\"\n",
    "\n",
    "offers = pl.read_csv(offers_path)\n",
    "hotels = pl.read_csv(hotels_path)\n",
    "\n",
    "df = offers.join(hotels, on=\"hotelid\", how=\"left\")\n",
    "    \n",
    "datetime_columns = [\n",
    "        \"outbounddeparturedatetime\",\n",
    "        \"inbounddeparturedatetime\",\n",
    "        \"outboundarrivaldatetime\",\n",
    "        \"inboundarrivaldatetime\"\n",
    "]\n",
    "\n",
    "for col in tqdm(datetime_columns, desc=\"Parsing datetime columns\"):\n",
    "    df = df.with_columns(\n",
    "        pl.col(col).str.strptime(pl.Datetime, fmt=\"%Y-%m-%d %H:%M:%S\", strict=False)\n",
    ")\n",
    "\n",
    "df = df.with_columns([\n",
    "    pl.col(\"outbounddeparturedatetime\").dt.date().alias(\"outbound_date\"),\n",
    "    (pl.col(\"inbounddeparturedatetime\") - pl.col(\"outbounddeparturedatetime\")).dt.days().cast(pl.UInt8).alias(\"duration\")\n",
    "])\n",
    "\n",
    "#Datatypes for ClickHouse\n",
    "columns_to_cast = {\n",
    "    \"hotelstars\": pl.Float32,\n",
    "    \"price\": pl.Float32,\n",
    "    \"oceanview\": pl.UInt8,\n",
    "    \"countadults\": pl.UInt8,\n",
    "    \"countchildren\": pl.UInt8,\n",
    "    \"roomtype\": pl.Categorical,\n",
    "    \"mealtype\": pl.Categorical,\n",
    "    \"outbounddepartureairport\": pl.Categorical,\n",
    "    \"lat\": pl.Float64,\n",
    "    \"lon\": pl.Float64,\n",
    "    }\n",
    "\n",
    "for col, dtype in tqdm(columns_to_cast.items(), desc=\"Casting columns\"):\n",
    "    df = df.with_columns([\n",
    "        pl.col(col).cast(dtype)\n",
    "])\n",
    "\n",
    "df.write_parquet(output_path)\n",
    "print(\"Saved Parquet:\", output_path)"
   ]
  }
 ],
 "metadata": {
  "kernelspec": {
   "display_name": "Python 3",
   "language": "python",
   "name": "python3"
  },
  "language_info": {
   "codemirror_mode": {
    "name": "ipython",
    "version": 3
   },
   "file_extension": ".py",
   "mimetype": "text/x-python",
   "name": "python",
   "nbconvert_exporter": "python",
   "pygments_lexer": "ipython3",
   "version": "3.9.6"
  },
  "orig_nbformat": 4,
  "vscode": {
   "interpreter": {
    "hash": "31f2aee4e71d21fbe5cf8b01ff0e069b9275f58929596ceb00d14d90e3e16cd6"
   }
  }
 },
 "nbformat": 4,
 "nbformat_minor": 2
}
